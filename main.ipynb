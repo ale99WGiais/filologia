{
 "cells": [
  {
   "cell_type": "code",
   "execution_count": 4,
   "metadata": {
    "collapsed": true
   },
   "outputs": [
    {
     "name": "stdout",
     "output_type": "stream",
     "text": [
      "Collecting docx2txt\n",
      "  Downloading docx2txt-0.8.tar.gz (2.8 kB)\n",
      "Building wheels for collected packages: docx2txt\n",
      "  Building wheel for docx2txt (setup.py): started\n",
      "  Building wheel for docx2txt (setup.py): finished with status 'done'\n",
      "  Created wheel for docx2txt: filename=docx2txt-0.8-py3-none-any.whl size=3966 sha256=5a8be7063c2e48dc1bd1cc896d3a2a01b641f19fadc2f7db1697ddda177a21cc\n",
      "  Stored in directory: c:\\users\\aless\\appdata\\local\\pip\\cache\\wheels\\55\\f0\\2c\\81637d42670985178b77df6d41b9b6c6dc18c94818447414b9\n",
      "Successfully built docx2txt\n",
      "Installing collected packages: docx2txt\n",
      "Successfully installed docx2txt-0.8\n",
      "Note: you may need to restart the kernel to use updated packages.\n"
     ]
    }
   ],
   "source": [
    "%pip install docx2txt"
   ]
  },
  {
   "cell_type": "code",
   "execution_count": 11,
   "outputs": [
    {
     "name": "stdout",
     "output_type": "stream",
     "text": [
      "[['1.1a:', 'Osculetur', 'me', 'osculo', 'oris', 'sui'], ['η', 'νυμφη', 'Sin'], ['vox', 'sponse', 'D'], ['1.1b:', 'quia', 'meliora', 'sunt', 'ubera', 'tua', 'vino'], ['vox', 'aeclesiae', 'Γa1', '(fors.', '1.1a)'], ['1.3a:', 'trahe', 'me', 'post', 'te', 'curremus'], ['adulescentulis', 'sponsa', 'narrat', 'de', 'sponso', 'Δf1'], ['1.3b:', 'introduxit', 'me', 'rex', 'in', 'cellaria', 'sua'], ['ταιϲ', 'νεανιϲιν', 'η', 'νυμφη', 'διηγειται', 'τα', 'περι', 'του', 'νυμφιου', 'α', 'εχαριϲατο', 'αυτη', 'Sin'], ['1/2', 'lin.', 'Γa0'], ['adoliscentulis', 'sponsa', 'narrat', 'de', 'sponso', 'D', ':', 'adulescentulis', 'sponsa', 'narrat', 'de', 'sponso', 'Δw1'], ['sponsa', 'de', 'sponso', 'L2'], ['vox', 'adulescen[tularum]', 'Γm1'], ['1.3c:', 'exultabimus', 'et', 'laetabimur', 'in', 'te'], ['τηϲ', 'νυμφηϲ', 'διηγηϲαμενηϲ', 'ταιϲ', 'νεανιϲιν', 'ꞏ', 'αἱδε', 'ꞏ', 'ειπαν', 'Sin'], ['sponsa', 'narrante', 'adulescentulę', 'Δw1'], ['sponsae', 'narrante', 'aduliscentulae', 'L2'], ['vox', 'adoliscent(ularum?)', 'D']]\n"
     ]
    }
   ],
   "source": [
    "import docx2txt\n",
    "txt = docx2txt.process(\"test1.docx\")\n",
    "txt = [x.split(\" \") for x in txt.split(\"\\n\") if x != \"\"]\n",
    "print(txt)"
   ],
   "metadata": {
    "collapsed": false,
    "pycharm": {
     "name": "#%%\n"
    }
   }
  },
  {
   "cell_type": "code",
   "execution_count": 12,
   "outputs": [
    {
     "name": "stdout",
     "output_type": "stream",
     "text": [
      "['1.1a:', 'Osculetur', 'me', 'osculo', 'oris', 'sui']\n",
      "['η', 'νυμφη', 'Sin']\n",
      "['vox', 'sponse', 'D']\n",
      "['1.1b:', 'quia', 'meliora', 'sunt', 'ubera', 'tua', 'vino']\n",
      "['vox', 'aeclesiae', 'Γa1', '(fors.', '1.1a)']\n",
      "['1.3a:', 'trahe', 'me', 'post', 'te', 'curremus']\n",
      "['adulescentulis', 'sponsa', 'narrat', 'de', 'sponso', 'Δf1']\n",
      "['1.3b:', 'introduxit', 'me', 'rex', 'in', 'cellaria', 'sua']\n",
      "['ταιϲ', 'νεανιϲιν', 'η', 'νυμφη', 'διηγειται', 'τα', 'περι', 'του', 'νυμφιου', 'α', 'εχαριϲατο', 'αυτη', 'Sin']\n",
      "['1/2', 'lin.', 'Γa0']\n",
      "['adoliscentulis', 'sponsa', 'narrat', 'de', 'sponso', 'D', ':', 'adulescentulis', 'sponsa', 'narrat', 'de', 'sponso', 'Δw1']\n",
      "['sponsa', 'de', 'sponso', 'L2']\n",
      "['vox', 'adulescen[tularum]', 'Γm1']\n",
      "['1.3c:', 'exultabimus', 'et', 'laetabimur', 'in', 'te']\n",
      "['τηϲ', 'νυμφηϲ', 'διηγηϲαμενηϲ', 'ταιϲ', 'νεανιϲιν', 'ꞏ', 'αἱδε', 'ꞏ', 'ειπαν', 'Sin']\n",
      "['sponsa', 'narrante', 'adulescentulę', 'Δw1']\n",
      "['sponsae', 'narrante', 'aduliscentulae', 'L2']\n",
      "['vox', 'adoliscent(ularum?)', 'D']\n"
     ]
    }
   ],
   "source": [
    "for l in txt:\n",
    "    print(l)"
   ],
   "metadata": {
    "collapsed": false,
    "pycharm": {
     "name": "#%%\n"
    }
   }
  },
  {
   "cell_type": "code",
   "execution_count": null,
   "outputs": [],
   "source": [],
   "metadata": {
    "collapsed": false,
    "pycharm": {
     "name": "#%%\n"
    }
   }
  }
 ],
 "metadata": {
  "kernelspec": {
   "display_name": "Python 3",
   "language": "python",
   "name": "python3"
  },
  "language_info": {
   "codemirror_mode": {
    "name": "ipython",
    "version": 2
   },
   "file_extension": ".py",
   "mimetype": "text/x-python",
   "name": "python",
   "nbconvert_exporter": "python",
   "pygments_lexer": "ipython2",
   "version": "2.7.6"
  }
 },
 "nbformat": 4,
 "nbformat_minor": 0
}